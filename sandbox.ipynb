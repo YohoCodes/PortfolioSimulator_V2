{
 "cells": [
  {
   "cell_type": "code",
   "execution_count": 1,
   "id": "08a984f4",
   "metadata": {},
   "outputs": [],
   "source": [
    "from utility import MonteCarlo\n",
    "import pandas as pd"
   ]
  },
  {
   "cell_type": "code",
   "execution_count": 2,
   "id": "ac22dd1d",
   "metadata": {},
   "outputs": [
    {
     "name": "stderr",
     "output_type": "stream",
     "text": [
      "/Users/isaacyoho/Desktop/Coding/Data Science/MonteCarlo2/utility/monte_carlo.py:22: FutureWarning: YF.download() has changed argument auto_adjust default to True\n",
      "  self.stock_data = yf.download(tickers, start=start_str, end=end_str)\n",
      "[*********************100%***********************]  5 of 5 completed\n"
     ]
    }
   ],
   "source": [
    "stocks = ['AAPL', 'MSFT', 'GOOGL', 'AMZN', 'TSLA']\n",
    "\n",
    "sim = MonteCarlo(stocks)"
   ]
  },
  {
   "cell_type": "code",
   "execution_count": 3,
   "id": "9e47aed3",
   "metadata": {},
   "outputs": [
    {
     "name": "stdout",
     "output_type": "stream",
     "text": [
      "\n",
      "\n",
      "**************************************************\n",
      "INITIAL CONDITIONS\n",
      "**************************************************\n",
      "Initial Investment: 10000\n",
      "Years Simulated: 0.999315537303217\n",
      "Weight of AAPL: 0.4164706234507731\n",
      "Weight of MSFT: 0.33880431310026804\n",
      "Weight of GOOGL: 0.09275935661058493\n",
      "Weight of AMZN: 0.06716262370748828\n",
      "Weight of TSLA: 0.08480308313088554\n",
      "**************************************************\n",
      "\n",
      "\n",
      "**************************************************\n",
      "FINAL CONDITIONS\n",
      "**************************************************\n",
      "Mean Final Investment: 12941.77342942755\n",
      "SD Final Investment: 4686.506571091915\n",
      "Mean Annual Rate: 0.29440594963042943\n",
      "Mean Total Return: 0.294177342942755\n",
      "**************************************************\n",
      "\n",
      "\n",
      "Displaying portfolio simulations as a matrix. Each row is a day, each column is a simulation.\n",
      "\n",
      "\n",
      "[[ 9816.60447561 10494.81342155  9977.22390166 ... 10020.10089928\n",
      "   9820.0018067  10124.55129511]\n",
      " [ 9856.97278427 10204.29807884 10135.15644407 ... 10236.96670404\n",
      "   9848.36614231  9838.40586873]\n",
      " [ 9724.47292479 10018.75265508  9877.08989433 ... 10355.36470423\n",
      "   9681.89036076  9873.6931308 ]\n",
      " ...\n",
      " [13061.23359215 12612.37146214  9615.93736848 ... 14341.95823822\n",
      "  12354.39820021  8308.33961814]\n",
      " [12959.41894881 12763.20415887  9539.0336443  ... 14238.31910364\n",
      "  12354.25388264  8129.00984743]\n",
      " [13190.02151905 12715.85547376  9723.70065565 ... 14265.86723899\n",
      "  12351.14295672  8053.23881663]]\n",
      "\n",
      "\n"
     ]
    },
    {
     "data": {
      "text/plain": [
       "array([[ 9816.60447561, 10494.81342155,  9977.22390166, ...,\n",
       "        10020.10089928,  9820.0018067 , 10124.55129511],\n",
       "       [ 9856.97278427, 10204.29807884, 10135.15644407, ...,\n",
       "        10236.96670404,  9848.36614231,  9838.40586873],\n",
       "       [ 9724.47292479, 10018.75265508,  9877.08989433, ...,\n",
       "        10355.36470423,  9681.89036076,  9873.6931308 ],\n",
       "       ...,\n",
       "       [13061.23359215, 12612.37146214,  9615.93736848, ...,\n",
       "        14341.95823822, 12354.39820021,  8308.33961814],\n",
       "       [12959.41894881, 12763.20415887,  9539.0336443 , ...,\n",
       "        14238.31910364, 12354.25388264,  8129.00984743],\n",
       "       [13190.02151905, 12715.85547376,  9723.70065565, ...,\n",
       "        14265.86723899, 12351.14295672,  8053.23881663]], shape=(365, 100))"
      ]
     },
     "execution_count": 3,
     "metadata": {},
     "output_type": "execute_result"
    }
   ],
   "source": [
    "sim.run_sim()"
   ]
  },
  {
   "cell_type": "code",
   "execution_count": null,
   "id": "c8bb84eb",
   "metadata": {},
   "outputs": [],
   "source": []
  }
 ],
 "metadata": {
  "kernelspec": {
   "display_name": "venv",
   "language": "python",
   "name": "python3"
  },
  "language_info": {
   "codemirror_mode": {
    "name": "ipython",
    "version": 3
   },
   "file_extension": ".py",
   "mimetype": "text/x-python",
   "name": "python",
   "nbconvert_exporter": "python",
   "pygments_lexer": "ipython3",
   "version": "3.13.1"
  }
 },
 "nbformat": 4,
 "nbformat_minor": 5
}
